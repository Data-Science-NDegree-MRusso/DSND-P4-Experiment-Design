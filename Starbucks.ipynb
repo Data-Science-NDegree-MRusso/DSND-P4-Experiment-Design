{
 "cells": [
  {
   "cell_type": "markdown",
   "metadata": {},
   "source": [
    "## Portfolio Exercise: Starbucks\n",
    "<br>\n",
    "\n",
    "<img src=\"https://opj.ca/wp-content/uploads/2018/02/New-Starbucks-Logo-1200x969.jpg\" width=\"200\" height=\"200\">\n",
    "<br>\n",
    "<br>\n",
    " \n",
    "#### Background Information\n",
    "\n",
    "The dataset you will be provided in this portfolio exercise was originally used as a take-home assignment provided by Starbucks for their job candidates. The data for this exercise consists of about 120,000 data points split in a 2:1 ratio among training and test files. In the experiment simulated by the data, an advertising promotion was tested to see if it would bring more customers to purchase a specific product priced at $10. Since it costs the company 0.15 to send out each promotion, it would be best to limit that promotion only to those that are most receptive to the promotion. Each data point includes one column indicating whether or not an individual was sent a promotion for the product, and one column indicating whether or not that individual eventually purchased that product. Each individual also has seven additional features associated with them, which are provided abstractly as V1-V7.\n",
    "\n",
    "#### Optimization Strategy\n",
    "\n",
    "Your task is to use the training data to understand what patterns in V1-V7 to indicate that a promotion should be provided to a user. Specifically, your goal is to maximize the following metrics:\n",
    "\n",
    "* **Incremental Response Rate (IRR)** \n",
    "\n",
    "IRR depicts how many more customers purchased the product with the promotion, as compared to if they didn't receive the promotion. Mathematically, it's the ratio of the number of purchasers in the promotion group to the total number of customers in the purchasers group (_treatment_) minus the ratio of the number of purchasers in the non-promotional group to the total number of customers in the non-promotional group (_control_).\n",
    "\n",
    "$$ IRR = \\frac{purch_{treat}}{cust_{treat}} - \\frac{purch_{ctrl}}{cust_{ctrl}} $$\n",
    "\n",
    "\n",
    "* **Net Incremental Revenue (NIR)**\n",
    "\n",
    "NIR depicts how much is made (or lost) by sending out the promotion. Mathematically, this is 10 times the total number of purchasers that received the promotion minus 0.15 times the number of promotions sent out, minus 10 times the number of purchasers who were not given the promotion.\n",
    "\n",
    "$$ NIR = (10\\cdot purch_{treat} - 0.15 \\cdot cust_{treat}) - 10 \\cdot purch_{ctrl}$$\n",
    "\n",
    "For a full description of what Starbucks provides to candidates see the [instructions available here](https://drive.google.com/open?id=18klca9Sef1Rs6q8DW4l7o349r8B70qXM).\n",
    "\n",
    "Below you can find the training data provided.  Explore the data and different optimization strategies.\n",
    "\n",
    "#### How To Test Your Strategy?\n",
    "\n",
    "When you feel like you have an optimization strategy, complete the `promotion_strategy` function to pass to the `test_results` function.  \n",
    "From past data, we know there are four possible outomes:\n",
    "\n",
    "Table of actual promotion vs. predicted promotion customers:  \n",
    "\n",
    "<table>\n",
    "<tr><th></th><th colspan = '2'>Actual</th></tr>\n",
    "<tr><th>Predicted</th><th>Yes</th><th>No</th></tr>\n",
    "<tr><th>Yes</th><td>I</td><td>II</td></tr>\n",
    "<tr><th>No</th><td>III</td><td>IV</td></tr>\n",
    "</table>\n",
    "\n",
    "The metrics are only being compared for the individuals we predict should obtain the promotion – that is, quadrants I and II.  Since the first set of individuals that receive the promotion (in the training set) receive it randomly, we can expect that quadrants I and II will have approximately equivalent participants.  \n",
    "\n",
    "Comparing quadrant I to II then gives an idea of how well your promotion strategy will work in the future. \n",
    "\n",
    "Get started by reading in the data below.  See how each variable or combination of variables along with a promotion influences the chance of purchasing.  When you feel like you have a strategy for who should receive a promotion, test your strategy against the test dataset used in the final `test_results` function.\n",
    "\n",
    "***"
   ]
  },
  {
   "cell_type": "markdown",
   "metadata": {},
   "source": [
    "## 1. Loading and exploration of training data"
   ]
  },
  {
   "cell_type": "code",
   "execution_count": 34,
   "metadata": {},
   "outputs": [],
   "source": [
    "# Load in necessary packages first\n",
    "from itertools import combinations\n",
    "\n",
    "from test_results import test_results, score\n",
    "import numpy as np\n",
    "import pandas as pd\n",
    "import scipy as sp\n",
    "import sklearn as sk\n",
    "from sklearn.ensemble import RandomForestClassifier\n",
    "from sklearn.metrics import confusion_matrix\n",
    "from sklearn import preprocessing\n",
    "import time\n",
    "\n",
    "import matplotlib.pyplot as plt\n",
    "import seaborn as sb\n",
    "%matplotlib inline"
   ]
  },
  {
   "cell_type": "code",
   "execution_count": 2,
   "metadata": {},
   "outputs": [
    {
     "data": {
      "text/html": [
       "<div>\n",
       "<style scoped>\n",
       "    .dataframe tbody tr th:only-of-type {\n",
       "        vertical-align: middle;\n",
       "    }\n",
       "\n",
       "    .dataframe tbody tr th {\n",
       "        vertical-align: top;\n",
       "    }\n",
       "\n",
       "    .dataframe thead th {\n",
       "        text-align: right;\n",
       "    }\n",
       "</style>\n",
       "<table border=\"1\" class=\"dataframe\">\n",
       "  <thead>\n",
       "    <tr style=\"text-align: right;\">\n",
       "      <th></th>\n",
       "      <th>ID</th>\n",
       "      <th>Promotion</th>\n",
       "      <th>purchase</th>\n",
       "      <th>V1</th>\n",
       "      <th>V2</th>\n",
       "      <th>V3</th>\n",
       "      <th>V4</th>\n",
       "      <th>V5</th>\n",
       "      <th>V6</th>\n",
       "      <th>V7</th>\n",
       "    </tr>\n",
       "  </thead>\n",
       "  <tbody>\n",
       "    <tr>\n",
       "      <th>0</th>\n",
       "      <td>1</td>\n",
       "      <td>No</td>\n",
       "      <td>0</td>\n",
       "      <td>2</td>\n",
       "      <td>30.443518</td>\n",
       "      <td>-1.165083</td>\n",
       "      <td>1</td>\n",
       "      <td>1</td>\n",
       "      <td>3</td>\n",
       "      <td>2</td>\n",
       "    </tr>\n",
       "    <tr>\n",
       "      <th>1</th>\n",
       "      <td>3</td>\n",
       "      <td>No</td>\n",
       "      <td>0</td>\n",
       "      <td>3</td>\n",
       "      <td>32.159350</td>\n",
       "      <td>-0.645617</td>\n",
       "      <td>2</td>\n",
       "      <td>3</td>\n",
       "      <td>2</td>\n",
       "      <td>2</td>\n",
       "    </tr>\n",
       "    <tr>\n",
       "      <th>2</th>\n",
       "      <td>4</td>\n",
       "      <td>No</td>\n",
       "      <td>0</td>\n",
       "      <td>2</td>\n",
       "      <td>30.431659</td>\n",
       "      <td>0.133583</td>\n",
       "      <td>1</td>\n",
       "      <td>1</td>\n",
       "      <td>4</td>\n",
       "      <td>2</td>\n",
       "    </tr>\n",
       "    <tr>\n",
       "      <th>3</th>\n",
       "      <td>5</td>\n",
       "      <td>No</td>\n",
       "      <td>0</td>\n",
       "      <td>0</td>\n",
       "      <td>26.588914</td>\n",
       "      <td>-0.212728</td>\n",
       "      <td>2</td>\n",
       "      <td>1</td>\n",
       "      <td>4</td>\n",
       "      <td>2</td>\n",
       "    </tr>\n",
       "    <tr>\n",
       "      <th>4</th>\n",
       "      <td>8</td>\n",
       "      <td>Yes</td>\n",
       "      <td>0</td>\n",
       "      <td>3</td>\n",
       "      <td>28.044332</td>\n",
       "      <td>-0.385883</td>\n",
       "      <td>1</td>\n",
       "      <td>1</td>\n",
       "      <td>2</td>\n",
       "      <td>2</td>\n",
       "    </tr>\n",
       "  </tbody>\n",
       "</table>\n",
       "</div>"
      ],
      "text/plain": [
       "   ID Promotion  purchase  V1         V2        V3  V4  V5  V6  V7\n",
       "0   1        No         0   2  30.443518 -1.165083   1   1   3   2\n",
       "1   3        No         0   3  32.159350 -0.645617   2   3   2   2\n",
       "2   4        No         0   2  30.431659  0.133583   1   1   4   2\n",
       "3   5        No         0   0  26.588914 -0.212728   2   1   4   2\n",
       "4   8       Yes         0   3  28.044332 -0.385883   1   1   2   2"
      ]
     },
     "execution_count": 2,
     "metadata": {},
     "output_type": "execute_result"
    }
   ],
   "source": [
    "# Load in the training data afterwards\n",
    "train_data = pd.read_csv('./training.csv')\n",
    "train_data.head()"
   ]
  },
  {
   "cell_type": "code",
   "execution_count": 3,
   "metadata": {},
   "outputs": [
    {
     "data": {
      "text/plain": [
       "(84534, 10)"
      ]
     },
     "execution_count": 3,
     "metadata": {},
     "output_type": "execute_result"
    }
   ],
   "source": [
    "train_data.shape"
   ]
  },
  {
   "cell_type": "markdown",
   "metadata": {},
   "source": [
    "* Are there duplicated IDs?"
   ]
  },
  {
   "cell_type": "code",
   "execution_count": 4,
   "metadata": {},
   "outputs": [
    {
     "data": {
      "text/plain": [
       "0"
      ]
     },
     "execution_count": 4,
     "metadata": {},
     "output_type": "execute_result"
    }
   ],
   "source": [
    "train_data.ID.nunique() - train_data.shape[0]"
   ]
  },
  {
   "cell_type": "markdown",
   "metadata": {},
   "source": [
    "* What's the distribution of control vs. treatment group?"
   ]
  },
  {
   "cell_type": "code",
   "execution_count": 5,
   "metadata": {},
   "outputs": [
    {
     "data": {
      "text/plain": [
       "Yes    42364\n",
       "No     42170\n",
       "Name: Promotion, dtype: int64"
      ]
     },
     "execution_count": 5,
     "metadata": {},
     "output_type": "execute_result"
    }
   ],
   "source": [
    "train_data.Promotion.value_counts()"
   ]
  },
  {
   "cell_type": "markdown",
   "metadata": {},
   "source": [
    "* How many cusomer completed a purchases?"
   ]
  },
  {
   "cell_type": "code",
   "execution_count": 6,
   "metadata": {},
   "outputs": [
    {
     "data": {
      "text/plain": [
       "0    83494\n",
       "1     1040\n",
       "Name: purchase, dtype: int64"
      ]
     },
     "execution_count": 6,
     "metadata": {},
     "output_type": "execute_result"
    }
   ],
   "source": [
    "train_data.purchase.value_counts()"
   ]
  },
  {
   "cell_type": "markdown",
   "metadata": {},
   "source": [
    "* How many purchases happened in each group?"
   ]
  },
  {
   "cell_type": "code",
   "execution_count": 7,
   "metadata": {},
   "outputs": [
    {
     "name": "stdout",
     "output_type": "stream",
     "text": [
      "Purchases in treatment group:  721 ; Purchases in control_group:  319\n"
     ]
    }
   ],
   "source": [
    "treat_purc = train_data.query('Promotion == \"Yes\" and purchase == 1').shape[0]\n",
    "cont_purc = train_data.query('Promotion == \"No\" and purchase == 1').shape[0]\n",
    "\n",
    "print('Purchases in treatment group: ', treat_purc , '; Purchases in control_group: ', cont_purc)"
   ]
  },
  {
   "cell_type": "markdown",
   "metadata": {},
   "source": [
    "* Check the score on train data\n",
    "\n",
    "**Note:** `score` is defined in `test_results.py`: takes in input the data frame and returns the `(irr, nir)` tuple"
   ]
  },
  {
   "cell_type": "code",
   "execution_count": 8,
   "metadata": {},
   "outputs": [
    {
     "name": "stdout",
     "output_type": "stream",
     "text": [
      "irr: 0.0095. nir: -2334.60.\n"
     ]
    }
   ],
   "source": [
    "irr_train, nir_train = score(train_data)\n",
    "\n",
    "print('irr: {:0.4f}.'.format(irr_train), 'nir: {:0.2f}.'.format(nir_train))"
   ]
  },
  {
   "cell_type": "markdown",
   "metadata": {},
   "source": [
    "## 2. Analysis of the Randomization (Invariant Metric)\n",
    "\n",
    "The first thing we'll check is whether or not there's any indication that the randomization in assigning a participants to the control or treatment group suffered from any issues. In other words, we want to assess that every subject in the population had an equal chance to be assigned either to the control or treatment group. This is our _Invariant_ Metric.\n",
    "\n",
    "* The **Null Hypothesis** will be that the proportion of members of the control group is the same of the proportion of members of the treatment group $\\rightarrow$ the difference in proportions is = 0\n",
    "* The **Alternative Hypothesis** will be that the proportion of members of the control group is NOT the same of the number of proportion of the treatment group $\\rightarrow$ the difference in proportions is $\\neq$ 0\n",
    "* The **Level of Confidence** $\\alpha$ will be set = **0.05**\n",
    "\n",
    "We will execute this test using [bootstrapping](https://en.wikipedia.org/wiki/Bootstrapping_(statistics)). This will allow us to avoid any underlying assumption on the statistics of the original population. "
   ]
  },
  {
   "cell_type": "markdown",
   "metadata": {},
   "source": [
    "First of all, let's measure the proportion of people in the control/experimental group, with respect to the total population:"
   ]
  },
  {
   "cell_type": "code",
   "execution_count": 9,
   "metadata": {},
   "outputs": [
    {
     "name": "stdout",
     "output_type": "stream",
     "text": [
      "Proportion of people in Control Group: 0.4989.\n",
      "Proportion of people in Treatment Group: 0.5011.\n",
      "Difference in Proportions: 0.0023.\n"
     ]
    }
   ],
   "source": [
    "Treat_prop = ((train_data.Promotion == \"Yes\").sum())/train_data.shape[0]\n",
    "Cont_prop = (train_data.Promotion == \"No\").sum()/train_data.shape[0]\n",
    "prop_diff = Treat_prop - Cont_prop\n",
    "\n",
    "print('Proportion of people in Control Group: {:0.4f}.'.format(Cont_prop))\n",
    "print('Proportion of people in Treatment Group: {:0.4f}.'.format(Treat_prop))\n",
    "print('Difference in Proportions: {:0.4f}.'.format(prop_diff))"
   ]
  },
  {
   "cell_type": "markdown",
   "metadata": {},
   "source": [
    "The difference in proportions that we measured will be the value to compare against the distribution calculated through bootstrapping.\n",
    "\n",
    "We will consider **10000** samples of **50000** elements extraced _with replacement_ from the training data population. This should provide us enough data for the analysis while being computationally feasible."
   ]
  },
  {
   "cell_type": "code",
   "execution_count": 10,
   "metadata": {},
   "outputs": [
    {
     "name": "stdout",
     "output_type": "stream",
     "text": [
      "Done. Elapsed time =  98.34  s\n"
     ]
    }
   ],
   "source": [
    "differences = []\n",
    "\n",
    "t0= time.clock()\n",
    "\n",
    "for _ in range(10000):\n",
    "    bootsamp = train_data.sample(50000, replace=True)\n",
    "    Treat_prop = ((bootsamp.Promotion == \"Yes\").sum())/bootsamp.shape[0]\n",
    "    Cont_prop = (bootsamp.Promotion == \"No\").sum()/bootsamp.shape[0]\n",
    "    differences.append(Treat_prop - Cont_prop)\n",
    "    \n",
    "t1 = time.clock() - t0\n",
    "\n",
    "print('Done. Elapsed time = ', '{:.2f}'.format(t1), ' s')"
   ]
  },
  {
   "cell_type": "markdown",
   "metadata": {},
   "source": [
    "Now we generate a normal distribution with a mean = the mean foreseen by our Null Hypothesis (in this case, **0**), and a standard deviation = the standard deviation of the sample obtained through bootstrapping (in this case `std(differences)`. "
   ]
  },
  {
   "cell_type": "code",
   "execution_count": 11,
   "metadata": {},
   "outputs": [
    {
     "name": "stdout",
     "output_type": "stream",
     "text": [
      "Standard Deviation for null distribution =  0.00445\n"
     ]
    }
   ],
   "source": [
    "# Display std. deviation\n",
    "print('Standard Deviation for null distribution = ', '{:.5f}'.format(np.std(differences)))\n",
    "\n",
    "# Generate distribution\n",
    "null_dist = np.random.normal(0, np.std(differences), 10000)"
   ]
  },
  {
   "cell_type": "code",
   "execution_count": null,
   "metadata": {},
   "outputs": [],
   "source": [
    "# Compute the confidence interval bounds\n",
    "c = .95\n",
    "lower_limit = np.percentile(null_dist, (1 - c)/2 * 100)\n",
    "upper_limit = np.percentile(null_dist, (1 + c)/2 * 100)"
   ]
  },
  {
   "cell_type": "markdown",
   "metadata": {},
   "source": [
    "We can plot a histogram for clarity:"
   ]
  },
  {
   "cell_type": "code",
   "execution_count": 12,
   "metadata": {},
   "outputs": [
    {
     "data": {
      "image/png": "[encoded data removed]",
      "text/plain": [
       "<Figure size 432x288 with 1 Axes>"
      ]
     },
     "metadata": {
      "needs_background": "light"
     },
     "output_type": "display_data"
    }
   ],
   "source": [
    "# Plot histogram, showing measured statistics\n",
    "plt.hist(null_dist, bins=60)\n",
    "plt.axvline(prop_diff, color='r', label =\"Observed Statistic\")\n",
    "plt.legend(loc='upper right')\n",
    "plt.title(\"Normal Distribution under the Null Hypothesis\");"
   ]
  },
  {
   "cell_type": "markdown",
   "metadata": {},
   "source": [
    "Finally, we can compare the measured stastics with this population, and evaluate the associated `p-value`. For this kind of testing we're looking at the values that are _more extreme_ that our measure in _either_ direction _away_ from the null hypothesis:"
   ]
  },
  {
   "cell_type": "code",
   "execution_count": 18,
   "metadata": {},
   "outputs": [
    {
     "name": "stdout",
     "output_type": "stream",
     "text": [
      "p-value =  0.613\n"
     ]
    }
   ],
   "source": [
    "p_val = (null_dist > prop_diff).mean() + (null_dist < - prop_diff).mean()\n",
    "\n",
    "print('p-value = ', '{:.3f}'.format(p_val))"
   ]
  },
  {
   "cell_type": "markdown",
   "metadata": {},
   "source": [
    "Given a `p-value` (quite) higher than our confidence level, we **Fail to Reject** the null hypothesis: we can consider the proportion of member in the Control group and Treatment group to be the same, hence can conclude that the randomization process was effective. "
   ]
  },
  {
   "cell_type": "markdown",
   "metadata": {},
   "source": [
    "## 3. Analysis of the IRR (Evaluation Metric 1)\n",
    "\n",
    "Once completed the analysis of the invariant metric we can move on to the actual evaluation metrics defined in the assignement.\n",
    "Recalling the definition of IRR here:\n",
    "\n",
    "**Incremental Response Rate (IRR)** \n",
    "\n",
    "IRR depicts how many more customers purchased the product with the promotion, as compared to if they didn't receive the promotion. Mathematically, it's the ratio of the number of purchasers in the promotion group to the total number of customers in the purchasers group (_treatment_) minus the ratio of the number of purchasers in the non-promotional group to the total number of customers in the non-promotional group (_control_).\n",
    "\n",
    "$$ IRR = \\frac{purch_{treat}}{cust_{treat}} - \\frac{purch_{ctrl}}{cust_{ctrl}} $$\n",
    "\n",
    "Looking at this for the training data set can set the folloeing hypothesese:\n",
    "\n",
    "* The **Null Hypothesis** will be that the IRR $\\leq$ 0\n",
    "* The **Alternative Hypothesis** will be that the IRR $>$ 0\n",
    "* The **Level of Confidence** $\\alpha$ will be set = 0.05/2 = **0.05**\n",
    "\n",
    "Note that the value of $\\alpha$ is defined considering that we have to evaluate 2 different metrics, and applying the Bonferroni's correction.\n",
    "\n",
    "Also in this case we will leverage [bootstrapping](https://en.wikipedia.org/wiki/Bootstrapping_(statistics)). "
   ]
  },
  {
   "cell_type": "markdown",
   "metadata": {},
   "source": [
    "As a remaninder, we have already calculated the total number of purchases in the control and treatment group, as well as the irr on the training data:"
   ]
  },
  {
   "cell_type": "code",
   "execution_count": 19,
   "metadata": {},
   "outputs": [
    {
     "name": "stdout",
     "output_type": "stream",
     "text": [
      "Purchases in treatment group:  721 ; Purchases in control_group:  319\n",
      "irr: 0.0095.\n"
     ]
    }
   ],
   "source": [
    "print('Purchases in treatment group: ', treat_purc , '; Purchases in control_group: ', cont_purc)\n",
    "print('irr: {:0.4f}.'.format(irr_train))"
   ]
  },
  {
   "cell_type": "markdown",
   "metadata": {},
   "source": [
    "The measured irr will be the value to compare against the distribution calculated through bootstrapping.\n",
    "\n",
    "Also in this case we will consider **10000** samples of **50000** elements extraced _with replacement_ from the training data population."
   ]
  },
  {
   "cell_type": "code",
   "execution_count": 20,
   "metadata": {},
   "outputs": [
    {
     "name": "stdout",
     "output_type": "stream",
     "text": [
      "Done. Elapsed time =  178.99  s\n"
     ]
    }
   ],
   "source": [
    "IRRs = []\n",
    "\n",
    "t0= time.clock()\n",
    "\n",
    "for _ in range(10000):\n",
    "    bootsample_IRR = train_data.sample(50000, replace=True)\n",
    "    irr_boot, _ = score(bootsample_IRR)\n",
    "    IRRs.append(irr_boot)\n",
    "    \n",
    "t1 = time.clock() - t0\n",
    "\n",
    "print('Done. Elapsed time = ', '{:.2f}'.format(t1), ' s')"
   ]
  },
  {
   "cell_type": "markdown",
   "metadata": {},
   "source": [
    "As done previously, we can now generate a normal distribution with a mean = the mean foreseen by our Null Hypothesis (in this case, **0**), and a standard deviation = the standard deviation of the sample obtained through bootstrapping (in this case `std(IRRs)`. "
   ]
  },
  {
   "cell_type": "code",
   "execution_count": 21,
   "metadata": {},
   "outputs": [
    {
     "name": "stdout",
     "output_type": "stream",
     "text": [
      "Standard Deviation for null distribution =  0.00098\n"
     ]
    }
   ],
   "source": [
    "# Display std. deviation\n",
    "print('Standard Deviation for null distribution = ', '{:.5f}'.format(np.std(IRRs)))\n",
    "\n",
    "# Generate distribution\n",
    "null_dist_IRR = np.random.normal(0, np.std(IRRs), 10000)"
   ]
  },
  {
   "cell_type": "markdown",
   "metadata": {},
   "source": [
    "We can plot a histogram for clarity:"
   ]
  },
  {
   "cell_type": "code",
   "execution_count": 22,
   "metadata": {},
   "outputs": [
    {
     "data": {
      "image/png": "[encoded data removed]",
      "text/plain": [
       "<Figure size 432x288 with 1 Axes>"
      ]
     },
     "metadata": {
      "needs_background": "light"
     },
     "output_type": "display_data"
    }
   ],
   "source": [
    "# Plot histogram, showing measured statistics\n",
    "plt.hist(null_dist_IRR, bins=60)\n",
    "plt.axvline(irr_train, color='r', label =\"Observed Statistic\")\n",
    "plt.legend(loc='upper right')\n",
    "plt.title(\"Normal Distribution under the Null Hypothesis\");"
   ]
  },
  {
   "cell_type": "markdown",
   "metadata": {},
   "source": [
    "The plot is fairly clear, but we can anyway compare the measured stastics with this population, and evaluate the associated `p-value`. Given the hypothesis that we are testing, we need to look for values that are _higher_ than the measured statistics under the null hypothesis: "
   ]
  },
  {
   "cell_type": "code",
   "execution_count": 23,
   "metadata": {},
   "outputs": [
    {
     "name": "stdout",
     "output_type": "stream",
     "text": [
      "p-value =  0.000\n"
     ]
    }
   ],
   "source": [
    "p_val_IRR = (null_dist_IRR>irr_train).mean()\n",
    "\n",
    "print('p-value = ', '{:.3f}'.format(p_val_IRR))"
   ]
  },
  {
   "cell_type": "markdown",
   "metadata": {},
   "source": [
    "Given this `p-value`, we clearly **Reject** the null hypothesis: we can consider the IRR of the Treatment group HIGHER than the IRR of the Control group."
   ]
  },
  {
   "cell_type": "markdown",
   "metadata": {},
   "source": [
    "## 4. Analysis of the NIR (Evaluation Metric 2)\n",
    "\n",
    "Moving on the next metric, the NIR, we recall the definition here also:\n",
    "\n",
    "**Net Incremental Revenue (NIR)**\n",
    "\n",
    "NIR depicts how much is made (or lost) by sending out the promotion. Mathematically, this is 10 times the total number of purchasers that received the promotion minus 0.15 times the number of promotions sent out, minus 10 times the number of purchasers who were not given the promotion.\n",
    "\n",
    "$$ NIR = (10\\cdot purch_{treat} - 0.15 \\cdot cust_{treat}) - 10 \\cdot purch_{ctrl}$$\n",
    "\n",
    "Similarly to what done previously, for the NIR we define hypotheses as:\n",
    "\n",
    "* The **Null Hypothesis** will be that the NIR the treatment group is $\\leq$ 0\n",
    "* The **Alternative Hypothesis** will be that the NIR of the treatment group is $>$ 0\n",
    "* The **Level of Confidence** $\\alpha$ will be set = 0.05/2 = **0.05**\n",
    "\n",
    "\n",
    "Moreover:\n",
    "\n",
    "* Remember that $\\alpha$ is defined applying the Bonferroni's correction.\n",
    "* The hypotheses will be tested using [bootstrapping](https://en.wikipedia.org/wiki/Bootstrapping_(statistics)). "
   ]
  },
  {
   "cell_type": "markdown",
   "metadata": {},
   "source": [
    "We have already calculated the nir on the training data:"
   ]
  },
  {
   "cell_type": "code",
   "execution_count": 25,
   "metadata": {},
   "outputs": [
    {
     "name": "stdout",
     "output_type": "stream",
     "text": [
      "nir: -2334.6000.\n"
     ]
    }
   ],
   "source": [
    "print('nir: {:0.4f}.'.format(nir_train))"
   ]
  },
  {
   "cell_type": "markdown",
   "metadata": {},
   "source": [
    "Note the negative value - it would seem that for the training group there was actually an overall _loss_.\n",
    "\n",
    "The measured nir will be the value to compare against the distribution calculated through bootstrapping.\n",
    "\n",
    "Also in this case we will consider **10000** samples of **50000** elements extraced _with replacement_ from the training data population."
   ]
  },
  {
   "cell_type": "code",
   "execution_count": 26,
   "metadata": {},
   "outputs": [
    {
     "name": "stdout",
     "output_type": "stream",
     "text": [
      "Done. Elapsed time =  199.46  s\n"
     ]
    }
   ],
   "source": [
    "NIRs = []\n",
    "\n",
    "t0= time.clock()\n",
    "\n",
    "for _ in range(10000):\n",
    "    bootsample_NIR = train_data.sample(50000, replace=True)\n",
    "    _ , nir_boot = score(bootsample_NIR)\n",
    "    NIRs.append(nir_boot)\n",
    "    \n",
    "t1 = time.clock() - t0\n",
    "\n",
    "print('Done. Elapsed time = ', '{:.2f}'.format(t1), ' s')"
   ]
  },
  {
   "cell_type": "markdown",
   "metadata": {},
   "source": [
    "Once again, we can now generate a normal distribution with a mean = the mean foreseen by our Null Hypothesis (in this case, **0**), and a standard deviation = the standard deviation of the sample obtained through bootstrapping (in this case `std(NIRs)`. "
   ]
  },
  {
   "cell_type": "code",
   "execution_count": 27,
   "metadata": {},
   "outputs": [
    {
     "name": "stdout",
     "output_type": "stream",
     "text": [
      "Standard Deviation for null distribution =  246.68003\n"
     ]
    }
   ],
   "source": [
    "# Display std. deviation\n",
    "print('Standard Deviation for null distribution = ', '{:.5f}'.format(np.std(NIRs)))\n",
    "\n",
    "# Generate distribution\n",
    "null_dist_NIR = np.random.normal(0, np.std(NIRs), 10000)"
   ]
  },
  {
   "cell_type": "markdown",
   "metadata": {},
   "source": [
    "We can plot a histogram:"
   ]
  },
  {
   "cell_type": "code",
   "execution_count": 28,
   "metadata": {},
   "outputs": [
    {
     "data": {
      "image/png": "[encoded data removed]",
      "text/plain": [
       "<Figure size 432x288 with 1 Axes>"
      ]
     },
     "metadata": {
      "needs_background": "light"
     },
     "output_type": "display_data"
    }
   ],
   "source": [
    "# Plot histogram, showing measured statistics\n",
    "plt.hist(null_dist_NIR, bins=60)\n",
    "plt.axvline(nir_train, color='r', label =\"Observed Statistic\")\n",
    "plt.legend(loc='upper right')\n",
    "plt.title(\"Normal Distribution under the Null Hypothesis\");"
   ]
  },
  {
   "cell_type": "markdown",
   "metadata": {},
   "source": [
    "Here too the plot is quite clear; we calculate a `p-value` again looking for values that are _higher_ than the measured statistics under the null hypothesis: "
   ]
  },
  {
   "cell_type": "code",
   "execution_count": 29,
   "metadata": {},
   "outputs": [
    {
     "name": "stdout",
     "output_type": "stream",
     "text": [
      "p-value =  1.000\n"
     ]
    }
   ],
   "source": [
    "p_val_NIR = (null_dist_NIR>nir_train).mean()\n",
    "\n",
    "print('p-value = ', '{:.3f}'.format(p_val_NIR))"
   ]
  },
  {
   "cell_type": "markdown",
   "metadata": {},
   "source": [
    "Given this `p-value`, we obviously **Fail to Reject** the null hypothesis: we can consider the NIR of the Treatment group LOWER than the NIR of the Control group."
   ]
  },
  {
   "cell_type": "markdown",
   "metadata": {},
   "source": [
    "## 5. Training of a Prediction Model\n",
    "\n",
    "Once assessed the data and what effect the campaign had on the partecipants, we can try to set up a prediction model that would evluate the 7 characteristics of every partecipant to assess whether or not he/she would actually make a purchase after having received the promotion."
   ]
  },
  {
   "cell_type": "code",
   "execution_count": 30,
   "metadata": {},
   "outputs": [],
   "source": [
    "# Copying the dataframe over \n",
    "data_exp = train_data.copy()"
   ]
  },
  {
   "cell_type": "code",
   "execution_count": 31,
   "metadata": {},
   "outputs": [],
   "source": [
    "# Only considering the experiment group for our model training \n",
    "data_exp = data_exp[data_exp['Promotion']==\"Yes\"]"
   ]
  },
  {
   "cell_type": "code",
   "execution_count": 32,
   "metadata": {},
   "outputs": [],
   "source": [
    "# Dropping the irrelavant columns \n",
    "data_exp.drop(['ID','Promotion'], axis = 1, inplace=True)"
   ]
  },
  {
   "cell_type": "code",
   "execution_count": 33,
   "metadata": {},
   "outputs": [],
   "source": [
    "# Splitting our data into predictors and target variables\n",
    "X = data_exp.drop(['purchase'],axis=1)\n",
    "y = data_exp.purchase"
   ]
  },
  {
   "cell_type": "code",
   "execution_count": 35,
   "metadata": {},
   "outputs": [],
   "source": [
    "# Scaling our inputs \n",
    "min_max_scaler = preprocessing.MinMaxScaler()\n",
    "X = min_max_scaler.fit_transform(X)"
   ]
  },
  {
   "cell_type": "code",
   "execution_count": 36,
   "metadata": {},
   "outputs": [
    {
     "name": "stdout",
     "output_type": "stream",
     "text": [
      "Done. Elapsed time =  2.13  s\n"
     ]
    }
   ],
   "source": [
    "# Instantiating our model and fitting it\n",
    "clf = RandomForestClassifier(n_estimators=100)\n",
    "\n",
    "t0= time.clock()\n",
    "\n",
    "clf.fit(X,y)\n",
    "\n",
    "t1 = time.clock() - t0\n",
    "\n",
    "print('Done. Elapsed time = ', '{:.2f}'.format(t1), ' s')"
   ]
  },
  {
   "cell_type": "code",
   "execution_count": null,
   "metadata": {},
   "outputs": [],
   "source": [
    "def promotion_strategy(df):\n",
    "    '''\n",
    "    INPUT \n",
    "    df - a dataframe with *only* the columns V1 - V7 (same as train_data)\n",
    "\n",
    "    OUTPUT\n",
    "    promotion_df - np.array with the values\n",
    "                   'Yes' or 'No' related to whether or not an \n",
    "                   individual should recieve a promotion \n",
    "                   should be the length of df.shape[0]\n",
    "                \n",
    "    Ex:\n",
    "    INPUT: df\n",
    "    \n",
    "    V1\tV2\t  V3\tV4\tV5\tV6\tV7\n",
    "    2\t30\t-1.1\t1\t1\t3\t2\n",
    "    3\t32\t-0.6\t2\t3\t2\t2\n",
    "    2\t30\t0.13\t1\t1\t4\t2\n",
    "    \n",
    "    OUTPUT: promotion\n",
    "    \n",
    "    array(['Yes', 'Yes', 'No'])\n",
    "    indicating the first two users would recieve the promotion and \n",
    "    the last should not.\n",
    "    '''\n",
    "    \n",
    "    \n",
    "    \n",
    "    \n",
    "    return promotion"
   ]
  },
  {
   "cell_type": "code",
   "execution_count": null,
   "metadata": {},
   "outputs": [],
   "source": [
    "# This will test your results, and provide you back some information \n",
    "# on how well your promotion_strategy will work in practice\n",
    "\n",
    "test_results(promotion_strategy)"
   ]
  }
 ],
 "metadata": {
  "kernelspec": {
   "display_name": "Python 3",
   "language": "python",
   "name": "python3"
  },
  "language_info": {
   "codemirror_mode": {
    "name": "ipython",
    "version": 3
   },
   "file_extension": ".py",
   "mimetype": "text/x-python",
   "name": "python",
   "nbconvert_exporter": "python",
   "pygments_lexer": "ipython3",
   "version": "3.6.2"
  }
 },
 "nbformat": 4,
 "nbformat_minor": 2
}
